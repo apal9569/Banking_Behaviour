{
  "nbformat": 4,
  "nbformat_minor": 0,
  "metadata": {
    "colab": {
      "name": "Banking_behaviour.ipynb",
      "provenance": [],
      "include_colab_link": true
    },
    "kernelspec": {
      "name": "python3",
      "display_name": "Python 3"
    },
    "accelerator": "GPU"
  },
  "cells": [
    {
      "cell_type": "markdown",
      "metadata": {
        "id": "view-in-github",
        "colab_type": "text"
      },
      "source": [
        "<a href=\"https://colab.research.google.com/github/apal9569/Banking_Behaviour/blob/master/Banking_behaviour.ipynb\" target=\"_parent\"><img src=\"https://colab.research.google.com/assets/colab-badge.svg\" alt=\"Open In Colab\"/></a>"
      ]
    },
    {
      "cell_type": "code",
      "metadata": {
        "id": "Mamk9Wg_nR2x",
        "colab_type": "code",
        "colab": {}
      },
      "source": [
        "from google.colab import drive\n",
        "drive.mount('/content/drive')"
      ],
      "execution_count": 0,
      "outputs": []
    },
    {
      "cell_type": "code",
      "metadata": {
        "id": "BhkFCWOBnSXE",
        "colab_type": "code",
        "outputId": "257e5fb8-fb62-4fe3-c6a6-08f1c838370a",
        "colab": {
          "base_uri": "https://localhost:8080/",
          "height": 34
        }
      },
      "source": [
        "cd drive/My\\ Drive"
      ],
      "execution_count": 0,
      "outputs": [
        {
          "output_type": "stream",
          "text": [
            "/content/drive/My Drive\n"
          ],
          "name": "stdout"
        }
      ]
    },
    {
      "cell_type": "code",
      "metadata": {
        "id": "kAefI9ftnb-h",
        "colab_type": "code",
        "outputId": "78fee381-2399-40dc-9651-222114ddeab0",
        "colab": {
          "base_uri": "https://localhost:8080/",
          "height": 104
        }
      },
      "source": [
        "!unzip d407ebe0db9a11e9.zip -d HDFC"
      ],
      "execution_count": 0,
      "outputs": [
        {
          "output_type": "stream",
          "text": [
            "Archive:  d407ebe0db9a11e9.zip\n",
            "   creating: HDFC/DataSet/\n",
            "  inflating: HDFC/DataSet/Train.csv  \n",
            "  inflating: HDFC/DataSet/Sample_submission.csv  \n",
            "  inflating: HDFC/DataSet/Test.csv   \n"
          ],
          "name": "stdout"
        }
      ]
    },
    {
      "cell_type": "code",
      "metadata": {
        "id": "o-NrfbizrB8b",
        "colab_type": "code",
        "outputId": "eb8902cf-f29d-45f8-c38d-90eaddb4c02d",
        "colab": {
          "base_uri": "https://localhost:8080/",
          "height": 34
        }
      },
      "source": [
        "cd HDFC/DataSet"
      ],
      "execution_count": 0,
      "outputs": [
        {
          "output_type": "stream",
          "text": [
            "/content/drive/My Drive/HDFC/DataSet\n"
          ],
          "name": "stdout"
        }
      ]
    },
    {
      "cell_type": "code",
      "metadata": {
        "id": "uku1fhcDrE6A",
        "colab_type": "code",
        "outputId": "658c792e-8619-4246-a403-e69a38e512ce",
        "colab": {
          "base_uri": "https://localhost:8080/",
          "height": 34
        }
      },
      "source": [
        "!ls"
      ],
      "execution_count": 0,
      "outputs": [
        {
          "output_type": "stream",
          "text": [
            "Sample_submission.csv  Test.csv  Train.csv\n"
          ],
          "name": "stdout"
        }
      ]
    },
    {
      "cell_type": "code",
      "metadata": {
        "id": "sxAUKj2PrGVl",
        "colab_type": "code",
        "colab": {}
      },
      "source": [
        "import pandas as pd\n",
        "import numpy as np\n",
        "from sklearn.ensemble import ExtraTreesClassifier"
      ],
      "execution_count": 0,
      "outputs": []
    },
    {
      "cell_type": "code",
      "metadata": {
        "id": "gK4w7IGxrVKD",
        "colab_type": "code",
        "outputId": "55fa0d56-e04c-4b6a-d408-6aae71fb23ec",
        "colab": {
          "base_uri": "https://localhost:8080/",
          "height": 72
        }
      },
      "source": [
        "train=pd.read_csv('Train.csv')"
      ],
      "execution_count": 0,
      "outputs": [
        {
          "output_type": "stream",
          "text": [
            "/usr/local/lib/python3.6/dist-packages/IPython/core/interactiveshell.py:2718: DtypeWarning: Columns (746,835) have mixed types. Specify dtype option on import or set low_memory=False.\n",
            "  interactivity=interactivity, compiler=compiler, result=result)\n"
          ],
          "name": "stderr"
        }
      ]
    },
    {
      "cell_type": "code",
      "metadata": {
        "id": "0mByCk6orZf1",
        "colab_type": "code",
        "outputId": "7a381ddb-827c-45bc-afc2-8704aac5d9bb",
        "colab": {
          "base_uri": "https://localhost:8080/",
          "height": 34
        }
      },
      "source": [
        "train.shape"
      ],
      "execution_count": 0,
      "outputs": [
        {
          "output_type": "execute_result",
          "data": {
            "text/plain": [
              "(17521, 2395)"
            ]
          },
          "metadata": {
            "tags": []
          },
          "execution_count": 92
        }
      ]
    },
    {
      "cell_type": "code",
      "metadata": {
        "id": "dfKkXGHirdbe",
        "colab_type": "code",
        "outputId": "3846316f-e4ab-4e04-95fb-459481abec78",
        "colab": {
          "base_uri": "https://localhost:8080/",
          "height": 256
        }
      },
      "source": [
        "train.head()"
      ],
      "execution_count": 0,
      "outputs": [
        {
          "output_type": "execute_result",
          "data": {
            "text/html": [
              "<div>\n",
              "<style scoped>\n",
              "    .dataframe tbody tr th:only-of-type {\n",
              "        vertical-align: middle;\n",
              "    }\n",
              "\n",
              "    .dataframe tbody tr th {\n",
              "        vertical-align: top;\n",
              "    }\n",
              "\n",
              "    .dataframe thead th {\n",
              "        text-align: right;\n",
              "    }\n",
              "</style>\n",
              "<table border=\"1\" class=\"dataframe\">\n",
              "  <thead>\n",
              "    <tr style=\"text-align: right;\">\n",
              "      <th></th>\n",
              "      <th>Col1</th>\n",
              "      <th>Col2</th>\n",
              "      <th>Col3</th>\n",
              "      <th>Col4</th>\n",
              "      <th>Col5</th>\n",
              "      <th>Col6</th>\n",
              "      <th>Col7</th>\n",
              "      <th>Col8</th>\n",
              "      <th>Col9</th>\n",
              "      <th>Col10</th>\n",
              "      <th>Col11</th>\n",
              "      <th>Col12</th>\n",
              "      <th>Col13</th>\n",
              "      <th>Col14</th>\n",
              "      <th>Col15</th>\n",
              "      <th>Col16</th>\n",
              "      <th>Col17</th>\n",
              "      <th>Col18</th>\n",
              "      <th>Col19</th>\n",
              "      <th>Col20</th>\n",
              "      <th>Col21</th>\n",
              "      <th>Col22</th>\n",
              "      <th>Col23</th>\n",
              "      <th>Col24</th>\n",
              "      <th>Col25</th>\n",
              "      <th>Col26</th>\n",
              "      <th>Col27</th>\n",
              "      <th>Col28</th>\n",
              "      <th>Col29</th>\n",
              "      <th>Col30</th>\n",
              "      <th>Col31</th>\n",
              "      <th>Col32</th>\n",
              "      <th>Col33</th>\n",
              "      <th>Col34</th>\n",
              "      <th>Col35</th>\n",
              "      <th>Col36</th>\n",
              "      <th>Col37</th>\n",
              "      <th>Col38</th>\n",
              "      <th>Col39</th>\n",
              "      <th>Col40</th>\n",
              "      <th>...</th>\n",
              "      <th>Col2358</th>\n",
              "      <th>Col2359</th>\n",
              "      <th>Col2360</th>\n",
              "      <th>Col2361</th>\n",
              "      <th>Col2362</th>\n",
              "      <th>Col2363</th>\n",
              "      <th>Col2364</th>\n",
              "      <th>Col2365</th>\n",
              "      <th>Col2366</th>\n",
              "      <th>Col2367</th>\n",
              "      <th>Col2368</th>\n",
              "      <th>Col2369</th>\n",
              "      <th>Col2370</th>\n",
              "      <th>Col2371</th>\n",
              "      <th>Col2372</th>\n",
              "      <th>Col2373</th>\n",
              "      <th>Col2374</th>\n",
              "      <th>Col2375</th>\n",
              "      <th>Col2376</th>\n",
              "      <th>Col2377</th>\n",
              "      <th>Col2378</th>\n",
              "      <th>Col2379</th>\n",
              "      <th>Col2380</th>\n",
              "      <th>Col2381</th>\n",
              "      <th>Col2382</th>\n",
              "      <th>Col2383</th>\n",
              "      <th>Col2384</th>\n",
              "      <th>Col2385</th>\n",
              "      <th>Col2386</th>\n",
              "      <th>Col2387</th>\n",
              "      <th>Col2388</th>\n",
              "      <th>Col2389</th>\n",
              "      <th>Col2390</th>\n",
              "      <th>Col2391</th>\n",
              "      <th>Col2392</th>\n",
              "      <th>Col2393</th>\n",
              "      <th>Col2394</th>\n",
              "      <th>Col2395</th>\n",
              "      <th>Col2396</th>\n",
              "      <th>Col2397</th>\n",
              "    </tr>\n",
              "  </thead>\n",
              "  <tbody>\n",
              "    <tr>\n",
              "      <th>0</th>\n",
              "      <td>RIGHGSN</td>\n",
              "      <td>1</td>\n",
              "      <td>1.086711e+04</td>\n",
              "      <td>8.648345e+03</td>\n",
              "      <td>1.576618e+04</td>\n",
              "      <td>2.890466e+04</td>\n",
              "      <td>5.273655e+03</td>\n",
              "      <td>2.346153e+04</td>\n",
              "      <td>1.285597e+04</td>\n",
              "      <td>2.871509e+04</td>\n",
              "      <td>9.114586e+03</td>\n",
              "      <td>3.043078e+04</td>\n",
              "      <td>9.293496</td>\n",
              "      <td>8.570479</td>\n",
              "      <td>10.063117</td>\n",
              "      <td>10.271758</td>\n",
              "      <td>0.548538</td>\n",
              "      <td>0.403366</td>\n",
              "      <td>NaN</td>\n",
              "      <td>NaN</td>\n",
              "      <td>1.486524</td>\n",
              "      <td>1.728324</td>\n",
              "      <td>0.993441</td>\n",
              "      <td>1.297050</td>\n",
              "      <td>0.137398</td>\n",
              "      <td>0.115987</td>\n",
              "      <td>0.260428</td>\n",
              "      <td>1.414214</td>\n",
              "      <td>1</td>\n",
              "      <td>1</td>\n",
              "      <td>1</td>\n",
              "      <td>1</td>\n",
              "      <td>1</td>\n",
              "      <td>1</td>\n",
              "      <td>0</td>\n",
              "      <td>6</td>\n",
              "      <td>NaN</td>\n",
              "      <td>NaN</td>\n",
              "      <td>NaN</td>\n",
              "      <td>NaN</td>\n",
              "      <td>...</td>\n",
              "      <td>0</td>\n",
              "      <td>0</td>\n",
              "      <td>0</td>\n",
              "      <td>0</td>\n",
              "      <td>0</td>\n",
              "      <td>0</td>\n",
              "      <td>0</td>\n",
              "      <td>0</td>\n",
              "      <td>0</td>\n",
              "      <td>0</td>\n",
              "      <td>0</td>\n",
              "      <td>0</td>\n",
              "      <td>0</td>\n",
              "      <td>0</td>\n",
              "      <td>0</td>\n",
              "      <td>0</td>\n",
              "      <td>0</td>\n",
              "      <td>0</td>\n",
              "      <td>0</td>\n",
              "      <td>0</td>\n",
              "      <td>0</td>\n",
              "      <td>0</td>\n",
              "      <td>0</td>\n",
              "      <td>0</td>\n",
              "      <td>0</td>\n",
              "      <td>0</td>\n",
              "      <td>0</td>\n",
              "      <td>0</td>\n",
              "      <td>0</td>\n",
              "      <td>0</td>\n",
              "      <td>0</td>\n",
              "      <td>1</td>\n",
              "      <td>0</td>\n",
              "      <td>1</td>\n",
              "      <td>214.0</td>\n",
              "      <td>214.0</td>\n",
              "      <td>68.0</td>\n",
              "      <td>22.0</td>\n",
              "      <td>22.0</td>\n",
              "      <td>7.0</td>\n",
              "    </tr>\n",
              "    <tr>\n",
              "      <th>1</th>\n",
              "      <td>RIMHI5ZGP</td>\n",
              "      <td>0</td>\n",
              "      <td>2.584312e+05</td>\n",
              "      <td>2.179633e+05</td>\n",
              "      <td>1.866287e+05</td>\n",
              "      <td>1.866287e+05</td>\n",
              "      <td>2.154519e+05</td>\n",
              "      <td>1.923615e+05</td>\n",
              "      <td>1.726538e+05</td>\n",
              "      <td>1.666974e+05</td>\n",
              "      <td>2.013518e+05</td>\n",
              "      <td>1.859404e+05</td>\n",
              "      <td>12.462385</td>\n",
              "      <td>12.280493</td>\n",
              "      <td>12.167132</td>\n",
              "      <td>12.136876</td>\n",
              "      <td>1.167898</td>\n",
              "      <td>2.676398</td>\n",
              "      <td>NaN</td>\n",
              "      <td>NaN</td>\n",
              "      <td>0.792123</td>\n",
              "      <td>0.934556</td>\n",
              "      <td>0.893203</td>\n",
              "      <td>0.966620</td>\n",
              "      <td>0.753892</td>\n",
              "      <td>0.808295</td>\n",
              "      <td>1.414214</td>\n",
              "      <td>NaN</td>\n",
              "      <td>1</td>\n",
              "      <td>1</td>\n",
              "      <td>3</td>\n",
              "      <td>4</td>\n",
              "      <td>4</td>\n",
              "      <td>0</td>\n",
              "      <td>4</td>\n",
              "      <td>5</td>\n",
              "      <td>NaN</td>\n",
              "      <td>NaN</td>\n",
              "      <td>NaN</td>\n",
              "      <td>NaN</td>\n",
              "      <td>...</td>\n",
              "      <td>0</td>\n",
              "      <td>0</td>\n",
              "      <td>0</td>\n",
              "      <td>0</td>\n",
              "      <td>0</td>\n",
              "      <td>0</td>\n",
              "      <td>0</td>\n",
              "      <td>0</td>\n",
              "      <td>0</td>\n",
              "      <td>0</td>\n",
              "      <td>0</td>\n",
              "      <td>0</td>\n",
              "      <td>0</td>\n",
              "      <td>1</td>\n",
              "      <td>0</td>\n",
              "      <td>0</td>\n",
              "      <td>0</td>\n",
              "      <td>0</td>\n",
              "      <td>0</td>\n",
              "      <td>0</td>\n",
              "      <td>0</td>\n",
              "      <td>0</td>\n",
              "      <td>0</td>\n",
              "      <td>0</td>\n",
              "      <td>0</td>\n",
              "      <td>0</td>\n",
              "      <td>0</td>\n",
              "      <td>0</td>\n",
              "      <td>0</td>\n",
              "      <td>0</td>\n",
              "      <td>0</td>\n",
              "      <td>0</td>\n",
              "      <td>0</td>\n",
              "      <td>0</td>\n",
              "      <td>41.0</td>\n",
              "      <td>41.0</td>\n",
              "      <td>38.0</td>\n",
              "      <td>12.0</td>\n",
              "      <td>12.0</td>\n",
              "      <td>11.0</td>\n",
              "    </tr>\n",
              "    <tr>\n",
              "      <th>2</th>\n",
              "      <td>RIHOG1SZU</td>\n",
              "      <td>0</td>\n",
              "      <td>1.459355e+07</td>\n",
              "      <td>1.260060e+07</td>\n",
              "      <td>1.100315e+07</td>\n",
              "      <td>1.010315e+07</td>\n",
              "      <td>1.879882e+07</td>\n",
              "      <td>1.514035e+07</td>\n",
              "      <td>5.320778e+06</td>\n",
              "      <td>6.906324e+06</td>\n",
              "      <td>9.368338e+06</td>\n",
              "      <td>1.113330e+07</td>\n",
              "      <td>16.496090</td>\n",
              "      <td>16.749305</td>\n",
              "      <td>16.532874</td>\n",
              "      <td>16.128357</td>\n",
              "      <td>1.145182</td>\n",
              "      <td>2.203874</td>\n",
              "      <td>NaN</td>\n",
              "      <td>NaN</td>\n",
              "      <td>0.422264</td>\n",
              "      <td>0.498347</td>\n",
              "      <td>0.683582</td>\n",
              "      <td>0.735339</td>\n",
              "      <td>0.808115</td>\n",
              "      <td>0.776910</td>\n",
              "      <td>1.414214</td>\n",
              "      <td>NaN</td>\n",
              "      <td>3</td>\n",
              "      <td>3</td>\n",
              "      <td>4</td>\n",
              "      <td>12</td>\n",
              "      <td>4</td>\n",
              "      <td>0</td>\n",
              "      <td>2</td>\n",
              "      <td>4</td>\n",
              "      <td>NaN</td>\n",
              "      <td>1.0</td>\n",
              "      <td>NaN</td>\n",
              "      <td>NaN</td>\n",
              "      <td>...</td>\n",
              "      <td>1</td>\n",
              "      <td>0</td>\n",
              "      <td>1</td>\n",
              "      <td>0</td>\n",
              "      <td>1</td>\n",
              "      <td>0</td>\n",
              "      <td>0</td>\n",
              "      <td>0</td>\n",
              "      <td>0</td>\n",
              "      <td>0</td>\n",
              "      <td>2</td>\n",
              "      <td>0</td>\n",
              "      <td>1</td>\n",
              "      <td>1</td>\n",
              "      <td>0</td>\n",
              "      <td>0</td>\n",
              "      <td>0</td>\n",
              "      <td>0</td>\n",
              "      <td>0</td>\n",
              "      <td>0</td>\n",
              "      <td>2</td>\n",
              "      <td>0</td>\n",
              "      <td>0</td>\n",
              "      <td>0</td>\n",
              "      <td>0</td>\n",
              "      <td>0</td>\n",
              "      <td>0</td>\n",
              "      <td>0</td>\n",
              "      <td>0</td>\n",
              "      <td>0</td>\n",
              "      <td>0</td>\n",
              "      <td>1</td>\n",
              "      <td>1</td>\n",
              "      <td>0</td>\n",
              "      <td>378.0</td>\n",
              "      <td>378.0</td>\n",
              "      <td>310.0</td>\n",
              "      <td>21.0</td>\n",
              "      <td>21.0</td>\n",
              "      <td>16.0</td>\n",
              "    </tr>\n",
              "    <tr>\n",
              "      <th>3</th>\n",
              "      <td>RIHOLMQWU</td>\n",
              "      <td>0</td>\n",
              "      <td>6.727043e+05</td>\n",
              "      <td>8.181116e+05</td>\n",
              "      <td>6.794893e+05</td>\n",
              "      <td>6.794893e+05</td>\n",
              "      <td>8.257254e+05</td>\n",
              "      <td>7.605803e+05</td>\n",
              "      <td>3.577134e+05</td>\n",
              "      <td>4.236612e+05</td>\n",
              "      <td>4.304848e+05</td>\n",
              "      <td>4.065539e+05</td>\n",
              "      <td>13.419061</td>\n",
              "      <td>13.624018</td>\n",
              "      <td>13.541837</td>\n",
              "      <td>13.429097</td>\n",
              "      <td>1.204010</td>\n",
              "      <td>0.536304</td>\n",
              "      <td>NaN</td>\n",
              "      <td>NaN</td>\n",
              "      <td>0.437243</td>\n",
              "      <td>0.521341</td>\n",
              "      <td>0.623499</td>\n",
              "      <td>0.534531</td>\n",
              "      <td>-0.125829</td>\n",
              "      <td>0.388830</td>\n",
              "      <td>-1.414214</td>\n",
              "      <td>NaN</td>\n",
              "      <td>2</td>\n",
              "      <td>2</td>\n",
              "      <td>2</td>\n",
              "      <td>24</td>\n",
              "      <td>1</td>\n",
              "      <td>0</td>\n",
              "      <td>1</td>\n",
              "      <td>4</td>\n",
              "      <td>NaN</td>\n",
              "      <td>NaN</td>\n",
              "      <td>NaN</td>\n",
              "      <td>NaN</td>\n",
              "      <td>...</td>\n",
              "      <td>0</td>\n",
              "      <td>0</td>\n",
              "      <td>0</td>\n",
              "      <td>0</td>\n",
              "      <td>0</td>\n",
              "      <td>0</td>\n",
              "      <td>0</td>\n",
              "      <td>0</td>\n",
              "      <td>0</td>\n",
              "      <td>1</td>\n",
              "      <td>2</td>\n",
              "      <td>0</td>\n",
              "      <td>1</td>\n",
              "      <td>2</td>\n",
              "      <td>0</td>\n",
              "      <td>0</td>\n",
              "      <td>0</td>\n",
              "      <td>0</td>\n",
              "      <td>0</td>\n",
              "      <td>1</td>\n",
              "      <td>2</td>\n",
              "      <td>0</td>\n",
              "      <td>0</td>\n",
              "      <td>0</td>\n",
              "      <td>0</td>\n",
              "      <td>0</td>\n",
              "      <td>1</td>\n",
              "      <td>2</td>\n",
              "      <td>0</td>\n",
              "      <td>0</td>\n",
              "      <td>0</td>\n",
              "      <td>0</td>\n",
              "      <td>0</td>\n",
              "      <td>0</td>\n",
              "      <td>702.0</td>\n",
              "      <td>702.0</td>\n",
              "      <td>644.0</td>\n",
              "      <td>951.0</td>\n",
              "      <td>951.0</td>\n",
              "      <td>743.0</td>\n",
              "    </tr>\n",
              "    <tr>\n",
              "      <th>4</th>\n",
              "      <td>RIHO584ET</td>\n",
              "      <td>0</td>\n",
              "      <td>-1.218742e+06</td>\n",
              "      <td>-3.005361e+06</td>\n",
              "      <td>-1.666241e+05</td>\n",
              "      <td>-2.403574e+06</td>\n",
              "      <td>2.583183e+06</td>\n",
              "      <td>2.086546e+06</td>\n",
              "      <td>5.938358e+06</td>\n",
              "      <td>5.446532e+06</td>\n",
              "      <td>3.473444e+06</td>\n",
              "      <td>3.262168e+06</td>\n",
              "      <td>NaN</td>\n",
              "      <td>14.764533</td>\n",
              "      <td>14.551021</td>\n",
              "      <td>NaN</td>\n",
              "      <td>NaN</td>\n",
              "      <td>NaN</td>\n",
              "      <td>NaN</td>\n",
              "      <td>NaN</td>\n",
              "      <td>NaN</td>\n",
              "      <td>1.344637</td>\n",
              "      <td>NaN</td>\n",
              "      <td>1.563430</td>\n",
              "      <td>-0.113101</td>\n",
              "      <td>0.617486</td>\n",
              "      <td>1.414214</td>\n",
              "      <td>NaN</td>\n",
              "      <td>4</td>\n",
              "      <td>3</td>\n",
              "      <td>4</td>\n",
              "      <td>68</td>\n",
              "      <td>8</td>\n",
              "      <td>0</td>\n",
              "      <td>2</td>\n",
              "      <td>4</td>\n",
              "      <td>NaN</td>\n",
              "      <td>3.0</td>\n",
              "      <td>NaN</td>\n",
              "      <td>NaN</td>\n",
              "      <td>...</td>\n",
              "      <td>0</td>\n",
              "      <td>0</td>\n",
              "      <td>0</td>\n",
              "      <td>0</td>\n",
              "      <td>0</td>\n",
              "      <td>0</td>\n",
              "      <td>2</td>\n",
              "      <td>1</td>\n",
              "      <td>0</td>\n",
              "      <td>0</td>\n",
              "      <td>0</td>\n",
              "      <td>0</td>\n",
              "      <td>2</td>\n",
              "      <td>1</td>\n",
              "      <td>2</td>\n",
              "      <td>1</td>\n",
              "      <td>0</td>\n",
              "      <td>0</td>\n",
              "      <td>0</td>\n",
              "      <td>0</td>\n",
              "      <td>0</td>\n",
              "      <td>0</td>\n",
              "      <td>0</td>\n",
              "      <td>0</td>\n",
              "      <td>0</td>\n",
              "      <td>0</td>\n",
              "      <td>0</td>\n",
              "      <td>0</td>\n",
              "      <td>2</td>\n",
              "      <td>0</td>\n",
              "      <td>0</td>\n",
              "      <td>0</td>\n",
              "      <td>0</td>\n",
              "      <td>0</td>\n",
              "      <td>1305.0</td>\n",
              "      <td>1305.0</td>\n",
              "      <td>1211.0</td>\n",
              "      <td>2205.0</td>\n",
              "      <td>2205.0</td>\n",
              "      <td>1831.0</td>\n",
              "    </tr>\n",
              "  </tbody>\n",
              "</table>\n",
              "<p>5 rows × 2395 columns</p>\n",
              "</div>"
            ],
            "text/plain": [
              "        Col1  Col2          Col3  ...  Col2395  Col2396  Col2397\n",
              "0    RIGHGSN     1  1.086711e+04  ...     22.0     22.0      7.0\n",
              "1  RIMHI5ZGP     0  2.584312e+05  ...     12.0     12.0     11.0\n",
              "2  RIHOG1SZU     0  1.459355e+07  ...     21.0     21.0     16.0\n",
              "3  RIHOLMQWU     0  6.727043e+05  ...    951.0    951.0    743.0\n",
              "4  RIHO584ET     0 -1.218742e+06  ...   2205.0   2205.0   1831.0\n",
              "\n",
              "[5 rows x 2395 columns]"
            ]
          },
          "metadata": {
            "tags": []
          },
          "execution_count": 93
        }
      ]
    },
    {
      "cell_type": "code",
      "metadata": {
        "id": "EQKjqaCrrmHO",
        "colab_type": "code",
        "colab": {}
      },
      "source": [
        "nan_col_before=train.columns[train.isna().any()].tolist()"
      ],
      "execution_count": 0,
      "outputs": []
    },
    {
      "cell_type": "code",
      "metadata": {
        "id": "5sru604gr4m-",
        "colab_type": "code",
        "colab": {}
      },
      "source": [
        "num_nan_before=train[nan_col_before].isna().sum()"
      ],
      "execution_count": 0,
      "outputs": []
    },
    {
      "cell_type": "code",
      "metadata": {
        "id": "8SSlbtF0sPP3",
        "colab_type": "code",
        "colab": {}
      },
      "source": [
        "drop_col=train.columns[train.isna().sum()>1000].tolist()"
      ],
      "execution_count": 0,
      "outputs": []
    },
    {
      "cell_type": "code",
      "metadata": {
        "id": "LtRd5pj8DCFI",
        "colab_type": "code",
        "outputId": "c1401202-d837-42f9-9393-13eae8563f96",
        "colab": {
          "base_uri": "https://localhost:8080/",
          "height": 69
        }
      },
      "source": [
        "train['Col2'].value_counts()"
      ],
      "execution_count": 0,
      "outputs": [
        {
          "output_type": "execute_result",
          "data": {
            "text/plain": [
              "0    15760\n",
              "1     1761\n",
              "Name: Col2, dtype: int64"
            ]
          },
          "metadata": {
            "tags": []
          },
          "execution_count": 97
        }
      ]
    },
    {
      "cell_type": "code",
      "metadata": {
        "id": "Ln2cum-639Cf",
        "colab_type": "code",
        "colab": {}
      },
      "source": [
        "label=train['Col2']"
      ],
      "execution_count": 0,
      "outputs": []
    },
    {
      "cell_type": "code",
      "metadata": {
        "id": "IP-CXvzh4FtH",
        "colab_type": "code",
        "colab": {}
      },
      "source": [
        "train=train.drop(columns=['Col1','Col2'])"
      ],
      "execution_count": 0,
      "outputs": []
    },
    {
      "cell_type": "code",
      "metadata": {
        "id": "hVA7tPGJ4RfG",
        "colab_type": "code",
        "colab": {}
      },
      "source": [
        "train=train.drop(columns=drop_col)"
      ],
      "execution_count": 0,
      "outputs": []
    },
    {
      "cell_type": "code",
      "metadata": {
        "id": "evHYB_6BC-HE",
        "colab_type": "code",
        "outputId": "16c1b8ef-eb5b-4d2b-9194-8106e27a05cb",
        "colab": {
          "base_uri": "https://localhost:8080/",
          "height": 34
        }
      },
      "source": [
        "train.shape"
      ],
      "execution_count": 0,
      "outputs": [
        {
          "output_type": "execute_result",
          "data": {
            "text/plain": [
              "(17521, 1635)"
            ]
          },
          "metadata": {
            "tags": []
          },
          "execution_count": 101
        }
      ]
    },
    {
      "cell_type": "code",
      "metadata": {
        "id": "ikfq2HTkC_l_",
        "colab_type": "code",
        "colab": {}
      },
      "source": [
        "nan_col_after=train.columns[train.isna().any()].tolist()\n",
        "num_nan_after=train[nan_col_after].isna().sum()\n"
      ],
      "execution_count": 0,
      "outputs": []
    },
    {
      "cell_type": "code",
      "metadata": {
        "id": "bIcyG-PhDHk5",
        "colab_type": "code",
        "outputId": "abe54f6b-5aa6-4504-f7a6-4223962da5f9",
        "colab": {
          "base_uri": "https://localhost:8080/",
          "height": 52
        }
      },
      "source": [
        "nan_col_after,num_nan_after"
      ],
      "execution_count": 0,
      "outputs": [
        {
          "output_type": "execute_result",
          "data": {
            "text/plain": [
              "(['Col27'], Col27    682\n",
              " dtype: int64)"
            ]
          },
          "metadata": {
            "tags": []
          },
          "execution_count": 103
        }
      ]
    },
    {
      "cell_type": "code",
      "metadata": {
        "id": "wOzZoMYWEpV-",
        "colab_type": "code",
        "outputId": "5fc86e3c-9d09-4b60-c569-86766bef5874",
        "colab": {
          "base_uri": "https://localhost:8080/",
          "height": 34
        }
      },
      "source": [
        "mean=train[nan_col_after].mean(axis=1)\n",
        "train=train.fillna(method='ffill')\n",
        "train.isna().any().sum()"
      ],
      "execution_count": 0,
      "outputs": [
        {
          "output_type": "execute_result",
          "data": {
            "text/plain": [
              "0"
            ]
          },
          "metadata": {
            "tags": []
          },
          "execution_count": 104
        }
      ]
    },
    {
      "cell_type": "code",
      "metadata": {
        "id": "jM4UcnLmFlQY",
        "colab_type": "code",
        "outputId": "958efdbe-8e31-433b-eee1-fbfdd8297a9a",
        "colab": {
          "base_uri": "https://localhost:8080/",
          "height": 72
        }
      },
      "source": [
        "model = ExtraTreesClassifier()\n",
        "model.fit(train,label)\n",
        "  \n",
        "feat_importances = pd.Series(model.feature_importances_, index=train.columns)\n",
        "imp_columns=feat_importances.nlargest(150).index"
      ],
      "execution_count": 0,
      "outputs": [
        {
          "output_type": "stream",
          "text": [
            "/usr/local/lib/python3.6/dist-packages/sklearn/ensemble/forest.py:245: FutureWarning: The default value of n_estimators will change from 10 in version 0.20 to 100 in 0.22.\n",
            "  \"10 in version 0.20 to 100 in 0.22.\", FutureWarning)\n"
          ],
          "name": "stderr"
        }
      ]
    },
    {
      "cell_type": "code",
      "metadata": {
        "id": "CRbKpYJpGjBh",
        "colab_type": "code",
        "colab": {}
      },
      "source": [
        "train1=train[imp_columns]"
      ],
      "execution_count": 0,
      "outputs": []
    },
    {
      "cell_type": "code",
      "metadata": {
        "id": "tRgmxRYoG_rh",
        "colab_type": "code",
        "outputId": "0e4467a9-666c-4872-a629-3085d5f6ef10",
        "colab": {
          "base_uri": "https://localhost:8080/",
          "height": 256
        }
      },
      "source": [
        "train1.head()"
      ],
      "execution_count": 0,
      "outputs": [
        {
          "output_type": "execute_result",
          "data": {
            "text/html": [
              "<div>\n",
              "<style scoped>\n",
              "    .dataframe tbody tr th:only-of-type {\n",
              "        vertical-align: middle;\n",
              "    }\n",
              "\n",
              "    .dataframe tbody tr th {\n",
              "        vertical-align: top;\n",
              "    }\n",
              "\n",
              "    .dataframe thead th {\n",
              "        text-align: right;\n",
              "    }\n",
              "</style>\n",
              "<table border=\"1\" class=\"dataframe\">\n",
              "  <thead>\n",
              "    <tr style=\"text-align: right;\">\n",
              "      <th></th>\n",
              "      <th>Col36</th>\n",
              "      <th>Col27</th>\n",
              "      <th>Col127</th>\n",
              "      <th>Col160</th>\n",
              "      <th>Col51</th>\n",
              "      <th>Col579</th>\n",
              "      <th>Col193</th>\n",
              "      <th>Col393</th>\n",
              "      <th>Col186</th>\n",
              "      <th>Col196</th>\n",
              "      <th>Col927</th>\n",
              "      <th>Col383</th>\n",
              "      <th>Col49</th>\n",
              "      <th>Col161</th>\n",
              "      <th>Col83</th>\n",
              "      <th>Col130</th>\n",
              "      <th>Col54</th>\n",
              "      <th>Col1502</th>\n",
              "      <th>Col25</th>\n",
              "      <th>Col586</th>\n",
              "      <th>Col75</th>\n",
              "      <th>Col589</th>\n",
              "      <th>Col168</th>\n",
              "      <th>Col390</th>\n",
              "      <th>Col1412</th>\n",
              "      <th>Col169</th>\n",
              "      <th>Col72</th>\n",
              "      <th>Col12</th>\n",
              "      <th>Col205</th>\n",
              "      <th>Col917</th>\n",
              "      <th>Col2142</th>\n",
              "      <th>Col80</th>\n",
              "      <th>Col2232</th>\n",
              "      <th>Col8</th>\n",
              "      <th>Col3</th>\n",
              "      <th>Col82</th>\n",
              "      <th>Col10</th>\n",
              "      <th>Col59</th>\n",
              "      <th>Col582</th>\n",
              "      <th>Col135</th>\n",
              "      <th>...</th>\n",
              "      <th>Col1934</th>\n",
              "      <th>Col403</th>\n",
              "      <th>Col2008</th>\n",
              "      <th>Col1818</th>\n",
              "      <th>Col1322</th>\n",
              "      <th>Col395</th>\n",
              "      <th>Col1118</th>\n",
              "      <th>Col2009</th>\n",
              "      <th>Col1733</th>\n",
              "      <th>Col55</th>\n",
              "      <th>Col134</th>\n",
              "      <th>Col2002</th>\n",
              "      <th>Col121</th>\n",
              "      <th>Col7</th>\n",
              "      <th>Col90</th>\n",
              "      <th>Col1205</th>\n",
              "      <th>Col5</th>\n",
              "      <th>Col1712</th>\n",
              "      <th>Col66</th>\n",
              "      <th>Col402</th>\n",
              "      <th>Col1048</th>\n",
              "      <th>Col48</th>\n",
              "      <th>Col2190</th>\n",
              "      <th>Col133</th>\n",
              "      <th>Col1095</th>\n",
              "      <th>Col938</th>\n",
              "      <th>Col1781</th>\n",
              "      <th>Col1214</th>\n",
              "      <th>Col1851</th>\n",
              "      <th>Col69</th>\n",
              "      <th>Col65</th>\n",
              "      <th>Col1848</th>\n",
              "      <th>Col70</th>\n",
              "      <th>Col1665</th>\n",
              "      <th>Col1551</th>\n",
              "      <th>Col588</th>\n",
              "      <th>Col4</th>\n",
              "      <th>Col1186</th>\n",
              "      <th>Col1184</th>\n",
              "      <th>Col194</th>\n",
              "    </tr>\n",
              "  </thead>\n",
              "  <tbody>\n",
              "    <tr>\n",
              "      <th>0</th>\n",
              "      <td>6</td>\n",
              "      <td>0.260428</td>\n",
              "      <td>1</td>\n",
              "      <td>14</td>\n",
              "      <td>2</td>\n",
              "      <td>0.333333</td>\n",
              "      <td>0.666667</td>\n",
              "      <td>4166.666667</td>\n",
              "      <td>0.333333</td>\n",
              "      <td>4166.666667</td>\n",
              "      <td>7</td>\n",
              "      <td>0.333333</td>\n",
              "      <td>2</td>\n",
              "      <td>14</td>\n",
              "      <td>1</td>\n",
              "      <td>3</td>\n",
              "      <td>1</td>\n",
              "      <td>0</td>\n",
              "      <td>0.137398</td>\n",
              "      <td>0.333333</td>\n",
              "      <td>1</td>\n",
              "      <td>5000.0</td>\n",
              "      <td>6.247142e+05</td>\n",
              "      <td>0.666667</td>\n",
              "      <td>0</td>\n",
              "      <td>6.247142e+05</td>\n",
              "      <td>3</td>\n",
              "      <td>3.043078e+04</td>\n",
              "      <td>12166.66667</td>\n",
              "      <td>22</td>\n",
              "      <td>0</td>\n",
              "      <td>2</td>\n",
              "      <td>0</td>\n",
              "      <td>2.346153e+04</td>\n",
              "      <td>1.086711e+04</td>\n",
              "      <td>2</td>\n",
              "      <td>2.871509e+04</td>\n",
              "      <td>2</td>\n",
              "      <td>0.000000</td>\n",
              "      <td>1</td>\n",
              "      <td>...</td>\n",
              "      <td>2</td>\n",
              "      <td>8.547600e+04</td>\n",
              "      <td>2</td>\n",
              "      <td>2</td>\n",
              "      <td>0</td>\n",
              "      <td>85475.99833</td>\n",
              "      <td>2</td>\n",
              "      <td>1</td>\n",
              "      <td>1</td>\n",
              "      <td>3</td>\n",
              "      <td>0</td>\n",
              "      <td>2</td>\n",
              "      <td>1</td>\n",
              "      <td>5.273655e+03</td>\n",
              "      <td>1</td>\n",
              "      <td>1</td>\n",
              "      <td>1.576618e+04</td>\n",
              "      <td>2</td>\n",
              "      <td>1</td>\n",
              "      <td>12166.66667</td>\n",
              "      <td>1</td>\n",
              "      <td>2</td>\n",
              "      <td>0</td>\n",
              "      <td>1</td>\n",
              "      <td>1</td>\n",
              "      <td>1</td>\n",
              "      <td>1</td>\n",
              "      <td>1</td>\n",
              "      <td>2</td>\n",
              "      <td>1</td>\n",
              "      <td>1</td>\n",
              "      <td>2</td>\n",
              "      <td>3</td>\n",
              "      <td>3</td>\n",
              "      <td>0</td>\n",
              "      <td>22.333333</td>\n",
              "      <td>8.648345e+03</td>\n",
              "      <td>2</td>\n",
              "      <td>2</td>\n",
              "      <td>32.666667</td>\n",
              "    </tr>\n",
              "    <tr>\n",
              "      <th>1</th>\n",
              "      <td>5</td>\n",
              "      <td>1.414214</td>\n",
              "      <td>0</td>\n",
              "      <td>2</td>\n",
              "      <td>0</td>\n",
              "      <td>0.000000</td>\n",
              "      <td>0.000000</td>\n",
              "      <td>0.000000</td>\n",
              "      <td>0.000000</td>\n",
              "      <td>0.000000</td>\n",
              "      <td>11</td>\n",
              "      <td>0.000000</td>\n",
              "      <td>0</td>\n",
              "      <td>2</td>\n",
              "      <td>0</td>\n",
              "      <td>1</td>\n",
              "      <td>2</td>\n",
              "      <td>0</td>\n",
              "      <td>0.753892</td>\n",
              "      <td>0.000000</td>\n",
              "      <td>0</td>\n",
              "      <td>0.0</td>\n",
              "      <td>5.282476e+06</td>\n",
              "      <td>0.000000</td>\n",
              "      <td>0</td>\n",
              "      <td>5.282476e+06</td>\n",
              "      <td>2</td>\n",
              "      <td>1.859404e+05</td>\n",
              "      <td>0.00000</td>\n",
              "      <td>12</td>\n",
              "      <td>0</td>\n",
              "      <td>2</td>\n",
              "      <td>0</td>\n",
              "      <td>1.923615e+05</td>\n",
              "      <td>2.584312e+05</td>\n",
              "      <td>2</td>\n",
              "      <td>1.666974e+05</td>\n",
              "      <td>0</td>\n",
              "      <td>4.666667</td>\n",
              "      <td>0</td>\n",
              "      <td>...</td>\n",
              "      <td>0</td>\n",
              "      <td>1.117646e+05</td>\n",
              "      <td>0</td>\n",
              "      <td>0</td>\n",
              "      <td>0</td>\n",
              "      <td>0.00000</td>\n",
              "      <td>2</td>\n",
              "      <td>0</td>\n",
              "      <td>0</td>\n",
              "      <td>0</td>\n",
              "      <td>1</td>\n",
              "      <td>0</td>\n",
              "      <td>0</td>\n",
              "      <td>2.154519e+05</td>\n",
              "      <td>1</td>\n",
              "      <td>0</td>\n",
              "      <td>1.866287e+05</td>\n",
              "      <td>0</td>\n",
              "      <td>1</td>\n",
              "      <td>0.00000</td>\n",
              "      <td>1</td>\n",
              "      <td>2</td>\n",
              "      <td>0</td>\n",
              "      <td>0</td>\n",
              "      <td>0</td>\n",
              "      <td>0</td>\n",
              "      <td>0</td>\n",
              "      <td>0</td>\n",
              "      <td>1</td>\n",
              "      <td>0</td>\n",
              "      <td>0</td>\n",
              "      <td>2</td>\n",
              "      <td>2</td>\n",
              "      <td>1</td>\n",
              "      <td>1</td>\n",
              "      <td>5.666667</td>\n",
              "      <td>2.179633e+05</td>\n",
              "      <td>0</td>\n",
              "      <td>3</td>\n",
              "      <td>0.600000</td>\n",
              "    </tr>\n",
              "    <tr>\n",
              "      <th>2</th>\n",
              "      <td>4</td>\n",
              "      <td>1.414214</td>\n",
              "      <td>0</td>\n",
              "      <td>0</td>\n",
              "      <td>0</td>\n",
              "      <td>0.000000</td>\n",
              "      <td>1.200000</td>\n",
              "      <td>0.000000</td>\n",
              "      <td>0.000000</td>\n",
              "      <td>0.000000</td>\n",
              "      <td>16</td>\n",
              "      <td>0.000000</td>\n",
              "      <td>0</td>\n",
              "      <td>0</td>\n",
              "      <td>0</td>\n",
              "      <td>1</td>\n",
              "      <td>2</td>\n",
              "      <td>0</td>\n",
              "      <td>0.808115</td>\n",
              "      <td>1.666667</td>\n",
              "      <td>0</td>\n",
              "      <td>0.0</td>\n",
              "      <td>2.226136e+08</td>\n",
              "      <td>1.200000</td>\n",
              "      <td>0</td>\n",
              "      <td>2.226136e+08</td>\n",
              "      <td>1</td>\n",
              "      <td>1.113330e+07</td>\n",
              "      <td>31000.00000</td>\n",
              "      <td>21</td>\n",
              "      <td>0</td>\n",
              "      <td>1</td>\n",
              "      <td>0</td>\n",
              "      <td>1.514035e+07</td>\n",
              "      <td>1.459355e+07</td>\n",
              "      <td>1</td>\n",
              "      <td>6.906324e+06</td>\n",
              "      <td>0</td>\n",
              "      <td>63.666667</td>\n",
              "      <td>0</td>\n",
              "      <td>...</td>\n",
              "      <td>3</td>\n",
              "      <td>5.694258e+06</td>\n",
              "      <td>0</td>\n",
              "      <td>3</td>\n",
              "      <td>0</td>\n",
              "      <td>25704.00000</td>\n",
              "      <td>3</td>\n",
              "      <td>0</td>\n",
              "      <td>0</td>\n",
              "      <td>0</td>\n",
              "      <td>0</td>\n",
              "      <td>3</td>\n",
              "      <td>0</td>\n",
              "      <td>1.879882e+07</td>\n",
              "      <td>1</td>\n",
              "      <td>1</td>\n",
              "      <td>1.100315e+07</td>\n",
              "      <td>0</td>\n",
              "      <td>1</td>\n",
              "      <td>31000.00000</td>\n",
              "      <td>2</td>\n",
              "      <td>1</td>\n",
              "      <td>1</td>\n",
              "      <td>0</td>\n",
              "      <td>0</td>\n",
              "      <td>0</td>\n",
              "      <td>0</td>\n",
              "      <td>0</td>\n",
              "      <td>0</td>\n",
              "      <td>1</td>\n",
              "      <td>0</td>\n",
              "      <td>3</td>\n",
              "      <td>2</td>\n",
              "      <td>0</td>\n",
              "      <td>1</td>\n",
              "      <td>83.333333</td>\n",
              "      <td>1.260060e+07</td>\n",
              "      <td>0</td>\n",
              "      <td>3</td>\n",
              "      <td>12.800000</td>\n",
              "    </tr>\n",
              "    <tr>\n",
              "      <th>3</th>\n",
              "      <td>4</td>\n",
              "      <td>-1.414214</td>\n",
              "      <td>0</td>\n",
              "      <td>0</td>\n",
              "      <td>1</td>\n",
              "      <td>0.000000</td>\n",
              "      <td>0.000000</td>\n",
              "      <td>0.000000</td>\n",
              "      <td>0.000000</td>\n",
              "      <td>0.000000</td>\n",
              "      <td>743</td>\n",
              "      <td>0.000000</td>\n",
              "      <td>1</td>\n",
              "      <td>0</td>\n",
              "      <td>1</td>\n",
              "      <td>0</td>\n",
              "      <td>2</td>\n",
              "      <td>0</td>\n",
              "      <td>-0.125829</td>\n",
              "      <td>0.000000</td>\n",
              "      <td>1</td>\n",
              "      <td>0.0</td>\n",
              "      <td>2.821560e+07</td>\n",
              "      <td>0.000000</td>\n",
              "      <td>0</td>\n",
              "      <td>2.821560e+07</td>\n",
              "      <td>2</td>\n",
              "      <td>4.065539e+05</td>\n",
              "      <td>0.00000</td>\n",
              "      <td>951</td>\n",
              "      <td>0</td>\n",
              "      <td>2</td>\n",
              "      <td>0</td>\n",
              "      <td>7.605803e+05</td>\n",
              "      <td>6.727043e+05</td>\n",
              "      <td>2</td>\n",
              "      <td>4.236612e+05</td>\n",
              "      <td>1</td>\n",
              "      <td>49.000000</td>\n",
              "      <td>0</td>\n",
              "      <td>...</td>\n",
              "      <td>0</td>\n",
              "      <td>4.742903e+05</td>\n",
              "      <td>0</td>\n",
              "      <td>0</td>\n",
              "      <td>0</td>\n",
              "      <td>25582.30400</td>\n",
              "      <td>4</td>\n",
              "      <td>0</td>\n",
              "      <td>0</td>\n",
              "      <td>1</td>\n",
              "      <td>0</td>\n",
              "      <td>0</td>\n",
              "      <td>1</td>\n",
              "      <td>8.257254e+05</td>\n",
              "      <td>1</td>\n",
              "      <td>0</td>\n",
              "      <td>6.794893e+05</td>\n",
              "      <td>0</td>\n",
              "      <td>1</td>\n",
              "      <td>0.00000</td>\n",
              "      <td>1</td>\n",
              "      <td>1</td>\n",
              "      <td>1</td>\n",
              "      <td>0</td>\n",
              "      <td>0</td>\n",
              "      <td>0</td>\n",
              "      <td>0</td>\n",
              "      <td>0</td>\n",
              "      <td>0</td>\n",
              "      <td>1</td>\n",
              "      <td>0</td>\n",
              "      <td>4</td>\n",
              "      <td>2</td>\n",
              "      <td>0</td>\n",
              "      <td>2</td>\n",
              "      <td>77.333333</td>\n",
              "      <td>8.181116e+05</td>\n",
              "      <td>0</td>\n",
              "      <td>3</td>\n",
              "      <td>17.800000</td>\n",
              "    </tr>\n",
              "    <tr>\n",
              "      <th>4</th>\n",
              "      <td>4</td>\n",
              "      <td>1.414214</td>\n",
              "      <td>0</td>\n",
              "      <td>8</td>\n",
              "      <td>2</td>\n",
              "      <td>0.000000</td>\n",
              "      <td>3.600000</td>\n",
              "      <td>0.000000</td>\n",
              "      <td>0.000000</td>\n",
              "      <td>0.000000</td>\n",
              "      <td>1831</td>\n",
              "      <td>0.000000</td>\n",
              "      <td>2</td>\n",
              "      <td>8</td>\n",
              "      <td>1</td>\n",
              "      <td>1</td>\n",
              "      <td>1</td>\n",
              "      <td>2</td>\n",
              "      <td>-0.113101</td>\n",
              "      <td>6.000000</td>\n",
              "      <td>1</td>\n",
              "      <td>0.0</td>\n",
              "      <td>4.726991e+08</td>\n",
              "      <td>3.600000</td>\n",
              "      <td>2</td>\n",
              "      <td>4.726991e+08</td>\n",
              "      <td>1</td>\n",
              "      <td>3.262168e+06</td>\n",
              "      <td>121000.00000</td>\n",
              "      <td>2205</td>\n",
              "      <td>2</td>\n",
              "      <td>1</td>\n",
              "      <td>2</td>\n",
              "      <td>2.086546e+06</td>\n",
              "      <td>-1.218742e+06</td>\n",
              "      <td>1</td>\n",
              "      <td>5.446532e+06</td>\n",
              "      <td>2</td>\n",
              "      <td>56.666667</td>\n",
              "      <td>0</td>\n",
              "      <td>...</td>\n",
              "      <td>2</td>\n",
              "      <td>0.000000e+00</td>\n",
              "      <td>0</td>\n",
              "      <td>3</td>\n",
              "      <td>2</td>\n",
              "      <td>0.00000</td>\n",
              "      <td>2</td>\n",
              "      <td>0</td>\n",
              "      <td>0</td>\n",
              "      <td>2</td>\n",
              "      <td>0</td>\n",
              "      <td>1</td>\n",
              "      <td>0</td>\n",
              "      <td>2.583183e+06</td>\n",
              "      <td>1</td>\n",
              "      <td>0</td>\n",
              "      <td>-1.666241e+05</td>\n",
              "      <td>0</td>\n",
              "      <td>0</td>\n",
              "      <td>121000.00000</td>\n",
              "      <td>1</td>\n",
              "      <td>1</td>\n",
              "      <td>2</td>\n",
              "      <td>0</td>\n",
              "      <td>0</td>\n",
              "      <td>0</td>\n",
              "      <td>0</td>\n",
              "      <td>0</td>\n",
              "      <td>1</td>\n",
              "      <td>2</td>\n",
              "      <td>2</td>\n",
              "      <td>2</td>\n",
              "      <td>1</td>\n",
              "      <td>0</td>\n",
              "      <td>1</td>\n",
              "      <td>56.666667</td>\n",
              "      <td>-3.005361e+06</td>\n",
              "      <td>0</td>\n",
              "      <td>3</td>\n",
              "      <td>0.000000</td>\n",
              "    </tr>\n",
              "  </tbody>\n",
              "</table>\n",
              "<p>5 rows × 150 columns</p>\n",
              "</div>"
            ],
            "text/plain": [
              "   Col36     Col27  Col127  Col160  ...          Col4  Col1186  Col1184     Col194\n",
              "0      6  0.260428       1      14  ...  8.648345e+03        2        2  32.666667\n",
              "1      5  1.414214       0       2  ...  2.179633e+05        0        3   0.600000\n",
              "2      4  1.414214       0       0  ...  1.260060e+07        0        3  12.800000\n",
              "3      4 -1.414214       0       0  ...  8.181116e+05        0        3  17.800000\n",
              "4      4  1.414214       0       8  ... -3.005361e+06        0        3   0.000000\n",
              "\n",
              "[5 rows x 150 columns]"
            ]
          },
          "metadata": {
            "tags": []
          },
          "execution_count": 107
        }
      ]
    },
    {
      "cell_type": "code",
      "metadata": {
        "id": "AnRLwZa5HKmA",
        "colab_type": "code",
        "colab": {}
      },
      "source": [
        "from xgboost import XGBClassifier\n",
        "from sklearn.model_selection import train_test_split"
      ],
      "execution_count": 0,
      "outputs": []
    },
    {
      "cell_type": "code",
      "metadata": {
        "id": "6EZVmRy1oao0",
        "colab_type": "code",
        "colab": {}
      },
      "source": [
        "trainx,valx,trainy,valy=train_test_split(train1,label,test_size=0.1)"
      ],
      "execution_count": 0,
      "outputs": []
    },
    {
      "cell_type": "code",
      "metadata": {
        "id": "ULf30KKcpkOn",
        "colab_type": "code",
        "outputId": "bd22aeea-0ae7-487f-d774-246a9104c5c9",
        "colab": {
          "base_uri": "https://localhost:8080/",
          "height": 139
        }
      },
      "source": [
        "model=XGBClassifier(max_depth=6,learning_rate=0.15,gamma=0.15)\n",
        "model.fit(trainx,trainy)"
      ],
      "execution_count": 0,
      "outputs": [
        {
          "output_type": "execute_result",
          "data": {
            "text/plain": [
              "XGBClassifier(base_score=0.5, booster='gbtree', colsample_bylevel=1,\n",
              "              colsample_bynode=1, colsample_bytree=1, gamma=0.15,\n",
              "              learning_rate=0.15, max_delta_step=0, max_depth=6,\n",
              "              min_child_weight=1, missing=None, n_estimators=100, n_jobs=1,\n",
              "              nthread=None, objective='binary:logistic', random_state=0,\n",
              "              reg_alpha=0, reg_lambda=1, scale_pos_weight=1, seed=None,\n",
              "              silent=None, subsample=1, verbosity=1)"
            ]
          },
          "metadata": {
            "tags": []
          },
          "execution_count": 147
        }
      ]
    },
    {
      "cell_type": "code",
      "metadata": {
        "id": "2bsu0TXipwzq",
        "colab_type": "code",
        "colab": {}
      },
      "source": [
        "from sklearn.metrics import accuracy_score\n",
        "y_pred = model.predict(valx)\n",
        "predictions = [round(value) for value in y_pred]\n",
        "accuracy = accuracy_score(valy, predictions)"
      ],
      "execution_count": 0,
      "outputs": []
    },
    {
      "cell_type": "code",
      "metadata": {
        "id": "1zsTulZ8p_uX",
        "colab_type": "code",
        "outputId": "37ced396-e3ed-473b-a2a8-404a00ac97e8",
        "colab": {
          "base_uri": "https://localhost:8080/",
          "height": 34
        }
      },
      "source": [
        "accuracy"
      ],
      "execution_count": 0,
      "outputs": [
        {
          "output_type": "execute_result",
          "data": {
            "text/plain": [
              "0.8881916714204221"
            ]
          },
          "metadata": {
            "tags": []
          },
          "execution_count": 149
        }
      ]
    },
    {
      "cell_type": "code",
      "metadata": {
        "id": "-Gs7ftP2qJ4f",
        "colab_type": "code",
        "outputId": "7164ac7f-5e26-41b2-e0e3-df37740d6934",
        "colab": {
          "base_uri": "https://localhost:8080/",
          "height": 72
        }
      },
      "source": [
        "test=pd.read_csv('Test.csv')"
      ],
      "execution_count": 0,
      "outputs": [
        {
          "output_type": "stream",
          "text": [
            "/usr/local/lib/python3.6/dist-packages/IPython/core/interactiveshell.py:2718: DtypeWarning: Columns (700,731,740,752,761,789,811,820,829,841,850) have mixed types. Specify dtype option on import or set low_memory=False.\n",
            "  interactivity=interactivity, compiler=compiler, result=result)\n"
          ],
          "name": "stderr"
        }
      ]
    },
    {
      "cell_type": "code",
      "metadata": {
        "id": "93j2gJfmqt-E",
        "colab_type": "code",
        "outputId": "cf280b2f-bd20-4e40-e197-900aa2b83cf0",
        "colab": {
          "base_uri": "https://localhost:8080/",
          "height": 34
        }
      },
      "source": [
        "test.shape"
      ],
      "execution_count": 0,
      "outputs": [
        {
          "output_type": "execute_result",
          "data": {
            "text/plain": [
              "(20442, 2394)"
            ]
          },
          "metadata": {
            "tags": []
          },
          "execution_count": 151
        }
      ]
    },
    {
      "cell_type": "code",
      "metadata": {
        "id": "NkdUXFjlqwP3",
        "colab_type": "code",
        "outputId": "67e8d263-5e9c-478c-96f4-060153264981",
        "colab": {
          "base_uri": "https://localhost:8080/",
          "height": 256
        }
      },
      "source": [
        "test.head()"
      ],
      "execution_count": 0,
      "outputs": [
        {
          "output_type": "execute_result",
          "data": {
            "text/html": [
              "<div>\n",
              "<style scoped>\n",
              "    .dataframe tbody tr th:only-of-type {\n",
              "        vertical-align: middle;\n",
              "    }\n",
              "\n",
              "    .dataframe tbody tr th {\n",
              "        vertical-align: top;\n",
              "    }\n",
              "\n",
              "    .dataframe thead th {\n",
              "        text-align: right;\n",
              "    }\n",
              "</style>\n",
              "<table border=\"1\" class=\"dataframe\">\n",
              "  <thead>\n",
              "    <tr style=\"text-align: right;\">\n",
              "      <th></th>\n",
              "      <th>Col1</th>\n",
              "      <th>Col3</th>\n",
              "      <th>Col4</th>\n",
              "      <th>Col5</th>\n",
              "      <th>Col6</th>\n",
              "      <th>Col7</th>\n",
              "      <th>Col8</th>\n",
              "      <th>Col9</th>\n",
              "      <th>Col10</th>\n",
              "      <th>Col11</th>\n",
              "      <th>Col12</th>\n",
              "      <th>Col13</th>\n",
              "      <th>Col14</th>\n",
              "      <th>Col15</th>\n",
              "      <th>Col16</th>\n",
              "      <th>Col17</th>\n",
              "      <th>Col18</th>\n",
              "      <th>Col19</th>\n",
              "      <th>Col20</th>\n",
              "      <th>Col21</th>\n",
              "      <th>Col22</th>\n",
              "      <th>Col23</th>\n",
              "      <th>Col24</th>\n",
              "      <th>Col25</th>\n",
              "      <th>Col26</th>\n",
              "      <th>Col27</th>\n",
              "      <th>Col28</th>\n",
              "      <th>Col29</th>\n",
              "      <th>Col30</th>\n",
              "      <th>Col31</th>\n",
              "      <th>Col32</th>\n",
              "      <th>Col33</th>\n",
              "      <th>Col34</th>\n",
              "      <th>Col35</th>\n",
              "      <th>Col36</th>\n",
              "      <th>Col37</th>\n",
              "      <th>Col38</th>\n",
              "      <th>Col39</th>\n",
              "      <th>Col40</th>\n",
              "      <th>Col41</th>\n",
              "      <th>...</th>\n",
              "      <th>Col2358</th>\n",
              "      <th>Col2359</th>\n",
              "      <th>Col2360</th>\n",
              "      <th>Col2361</th>\n",
              "      <th>Col2362</th>\n",
              "      <th>Col2363</th>\n",
              "      <th>Col2364</th>\n",
              "      <th>Col2365</th>\n",
              "      <th>Col2366</th>\n",
              "      <th>Col2367</th>\n",
              "      <th>Col2368</th>\n",
              "      <th>Col2369</th>\n",
              "      <th>Col2370</th>\n",
              "      <th>Col2371</th>\n",
              "      <th>Col2372</th>\n",
              "      <th>Col2373</th>\n",
              "      <th>Col2374</th>\n",
              "      <th>Col2375</th>\n",
              "      <th>Col2376</th>\n",
              "      <th>Col2377</th>\n",
              "      <th>Col2378</th>\n",
              "      <th>Col2379</th>\n",
              "      <th>Col2380</th>\n",
              "      <th>Col2381</th>\n",
              "      <th>Col2382</th>\n",
              "      <th>Col2383</th>\n",
              "      <th>Col2384</th>\n",
              "      <th>Col2385</th>\n",
              "      <th>Col2386</th>\n",
              "      <th>Col2387</th>\n",
              "      <th>Col2388</th>\n",
              "      <th>Col2389</th>\n",
              "      <th>Col2390</th>\n",
              "      <th>Col2391</th>\n",
              "      <th>Col2392</th>\n",
              "      <th>Col2393</th>\n",
              "      <th>Col2394</th>\n",
              "      <th>Col2395</th>\n",
              "      <th>Col2396</th>\n",
              "      <th>Col2397</th>\n",
              "    </tr>\n",
              "  </thead>\n",
              "  <tbody>\n",
              "    <tr>\n",
              "      <th>0</th>\n",
              "      <td>RIGD58ZWD</td>\n",
              "      <td>8.167140e+04</td>\n",
              "      <td>8.614542e+04</td>\n",
              "      <td>7.532296e+04</td>\n",
              "      <td>7.532296e+04</td>\n",
              "      <td>1.125174e+05</td>\n",
              "      <td>1.002778e+05</td>\n",
              "      <td>2.038915e+04</td>\n",
              "      <td>3.053853e+04</td>\n",
              "      <td>8.395911e+04</td>\n",
              "      <td>8.138800e+04</td>\n",
              "      <td>11.310459</td>\n",
              "      <td>11.630863</td>\n",
              "      <td>11.515700</td>\n",
              "      <td>11.229540</td>\n",
              "      <td>1.143681</td>\n",
              "      <td>0.879545</td>\n",
              "      <td>NaN</td>\n",
              "      <td>NaN</td>\n",
              "      <td>0.236683</td>\n",
              "      <td>0.746188</td>\n",
              "      <td>0.405435</td>\n",
              "      <td>0.811625</td>\n",
              "      <td>0.086109</td>\n",
              "      <td>0.238817</td>\n",
              "      <td>0.150242</td>\n",
              "      <td>NaN</td>\n",
              "      <td>3</td>\n",
              "      <td>3</td>\n",
              "      <td>6</td>\n",
              "      <td>6</td>\n",
              "      <td>6</td>\n",
              "      <td>0</td>\n",
              "      <td>1</td>\n",
              "      <td>5</td>\n",
              "      <td>19.0</td>\n",
              "      <td>NaN</td>\n",
              "      <td>NaN</td>\n",
              "      <td>39.0</td>\n",
              "      <td>NaN</td>\n",
              "      <td>...</td>\n",
              "      <td>0</td>\n",
              "      <td>0</td>\n",
              "      <td>0</td>\n",
              "      <td>0</td>\n",
              "      <td>0</td>\n",
              "      <td>0</td>\n",
              "      <td>0</td>\n",
              "      <td>0</td>\n",
              "      <td>0</td>\n",
              "      <td>0</td>\n",
              "      <td>0</td>\n",
              "      <td>0</td>\n",
              "      <td>1</td>\n",
              "      <td>1</td>\n",
              "      <td>1</td>\n",
              "      <td>1</td>\n",
              "      <td>0</td>\n",
              "      <td>0</td>\n",
              "      <td>0</td>\n",
              "      <td>0</td>\n",
              "      <td>0</td>\n",
              "      <td>0</td>\n",
              "      <td>0</td>\n",
              "      <td>0</td>\n",
              "      <td>0</td>\n",
              "      <td>0</td>\n",
              "      <td>0</td>\n",
              "      <td>0</td>\n",
              "      <td>0</td>\n",
              "      <td>0</td>\n",
              "      <td>0</td>\n",
              "      <td>0</td>\n",
              "      <td>0</td>\n",
              "      <td>0</td>\n",
              "      <td>44.0</td>\n",
              "      <td>44.0</td>\n",
              "      <td>23.0</td>\n",
              "      <td>41.0</td>\n",
              "      <td>41.0</td>\n",
              "      <td>36.0</td>\n",
              "    </tr>\n",
              "    <tr>\n",
              "      <th>1</th>\n",
              "      <td>RIH660YDS</td>\n",
              "      <td>-1.362824e+07</td>\n",
              "      <td>-4.493043e+06</td>\n",
              "      <td>-3.777257e+06</td>\n",
              "      <td>-4.493043e+06</td>\n",
              "      <td>-4.749764e+06</td>\n",
              "      <td>-4.749764e+06</td>\n",
              "      <td>1.147556e+07</td>\n",
              "      <td>1.147556e+07</td>\n",
              "      <td>1.272055e+07</td>\n",
              "      <td>1.272055e+07</td>\n",
              "      <td>NaN</td>\n",
              "      <td>NaN</td>\n",
              "      <td>NaN</td>\n",
              "      <td>NaN</td>\n",
              "      <td>NaN</td>\n",
              "      <td>-2.935756</td>\n",
              "      <td>-232.140528</td>\n",
              "      <td>-94.995287</td>\n",
              "      <td>NaN</td>\n",
              "      <td>NaN</td>\n",
              "      <td>NaN</td>\n",
              "      <td>NaN</td>\n",
              "      <td>-0.483522</td>\n",
              "      <td>-0.308259</td>\n",
              "      <td>-0.742190</td>\n",
              "      <td>NaN</td>\n",
              "      <td>6</td>\n",
              "      <td>5</td>\n",
              "      <td>7</td>\n",
              "      <td>19</td>\n",
              "      <td>9</td>\n",
              "      <td>0</td>\n",
              "      <td>2</td>\n",
              "      <td>6</td>\n",
              "      <td>2.0</td>\n",
              "      <td>0.0</td>\n",
              "      <td>NaN</td>\n",
              "      <td>5.0</td>\n",
              "      <td>4.0</td>\n",
              "      <td>...</td>\n",
              "      <td>0</td>\n",
              "      <td>0</td>\n",
              "      <td>1</td>\n",
              "      <td>0</td>\n",
              "      <td>0</td>\n",
              "      <td>0</td>\n",
              "      <td>2</td>\n",
              "      <td>2</td>\n",
              "      <td>1</td>\n",
              "      <td>1</td>\n",
              "      <td>0</td>\n",
              "      <td>0</td>\n",
              "      <td>1</td>\n",
              "      <td>2</td>\n",
              "      <td>1</td>\n",
              "      <td>1</td>\n",
              "      <td>2</td>\n",
              "      <td>1</td>\n",
              "      <td>1</td>\n",
              "      <td>1</td>\n",
              "      <td>2</td>\n",
              "      <td>1</td>\n",
              "      <td>3</td>\n",
              "      <td>1</td>\n",
              "      <td>2</td>\n",
              "      <td>1</td>\n",
              "      <td>0</td>\n",
              "      <td>0</td>\n",
              "      <td>1</td>\n",
              "      <td>1</td>\n",
              "      <td>1</td>\n",
              "      <td>1</td>\n",
              "      <td>2</td>\n",
              "      <td>2</td>\n",
              "      <td>1234.0</td>\n",
              "      <td>1234.0</td>\n",
              "      <td>680.0</td>\n",
              "      <td>154.0</td>\n",
              "      <td>153.0</td>\n",
              "      <td>86.0</td>\n",
              "    </tr>\n",
              "    <tr>\n",
              "      <th>2</th>\n",
              "      <td>RIH660Q96</td>\n",
              "      <td>1.302700e+06</td>\n",
              "      <td>1.341449e+06</td>\n",
              "      <td>1.240085e+06</td>\n",
              "      <td>1.341449e+06</td>\n",
              "      <td>1.477503e+06</td>\n",
              "      <td>1.477503e+06</td>\n",
              "      <td>3.904086e+05</td>\n",
              "      <td>3.904086e+05</td>\n",
              "      <td>4.979106e+05</td>\n",
              "      <td>4.979106e+05</td>\n",
              "      <td>14.079949</td>\n",
              "      <td>14.205864</td>\n",
              "      <td>14.205864</td>\n",
              "      <td>14.109261</td>\n",
              "      <td>1.081739</td>\n",
              "      <td>0.943850</td>\n",
              "      <td>2.122872</td>\n",
              "      <td>0.857057</td>\n",
              "      <td>0.291035</td>\n",
              "      <td>0.336995</td>\n",
              "      <td>0.291035</td>\n",
              "      <td>0.336995</td>\n",
              "      <td>-0.108229</td>\n",
              "      <td>-0.095389</td>\n",
              "      <td>-0.053413</td>\n",
              "      <td>NaN</td>\n",
              "      <td>2</td>\n",
              "      <td>2</td>\n",
              "      <td>2</td>\n",
              "      <td>3</td>\n",
              "      <td>1</td>\n",
              "      <td>0</td>\n",
              "      <td>1</td>\n",
              "      <td>6</td>\n",
              "      <td>NaN</td>\n",
              "      <td>NaN</td>\n",
              "      <td>NaN</td>\n",
              "      <td>NaN</td>\n",
              "      <td>5.0</td>\n",
              "      <td>...</td>\n",
              "      <td>0</td>\n",
              "      <td>0</td>\n",
              "      <td>0</td>\n",
              "      <td>0</td>\n",
              "      <td>0</td>\n",
              "      <td>0</td>\n",
              "      <td>0</td>\n",
              "      <td>0</td>\n",
              "      <td>1</td>\n",
              "      <td>0</td>\n",
              "      <td>2</td>\n",
              "      <td>1</td>\n",
              "      <td>0</td>\n",
              "      <td>1</td>\n",
              "      <td>0</td>\n",
              "      <td>0</td>\n",
              "      <td>0</td>\n",
              "      <td>0</td>\n",
              "      <td>2</td>\n",
              "      <td>1</td>\n",
              "      <td>2</td>\n",
              "      <td>1</td>\n",
              "      <td>0</td>\n",
              "      <td>0</td>\n",
              "      <td>0</td>\n",
              "      <td>0</td>\n",
              "      <td>0</td>\n",
              "      <td>0</td>\n",
              "      <td>0</td>\n",
              "      <td>0</td>\n",
              "      <td>0</td>\n",
              "      <td>0</td>\n",
              "      <td>0</td>\n",
              "      <td>0</td>\n",
              "      <td>33.0</td>\n",
              "      <td>24.0</td>\n",
              "      <td>19.0</td>\n",
              "      <td>3.0</td>\n",
              "      <td>1.0</td>\n",
              "      <td>1.0</td>\n",
              "    </tr>\n",
              "    <tr>\n",
              "      <th>3</th>\n",
              "      <td>RIYDO15W1</td>\n",
              "      <td>1.932258e+05</td>\n",
              "      <td>1.454433e+05</td>\n",
              "      <td>1.929148e+05</td>\n",
              "      <td>1.454433e+05</td>\n",
              "      <td>1.318250e+04</td>\n",
              "      <td>1.318250e+04</td>\n",
              "      <td>8.650108e+04</td>\n",
              "      <td>8.650108e+04</td>\n",
              "      <td>5.896693e+03</td>\n",
              "      <td>5.896693e+03</td>\n",
              "      <td>12.171615</td>\n",
              "      <td>9.486645</td>\n",
              "      <td>9.486645</td>\n",
              "      <td>11.887541</td>\n",
              "      <td>0.753925</td>\n",
              "      <td>1.978542</td>\n",
              "      <td>NaN</td>\n",
              "      <td>NaN</td>\n",
              "      <td>0.594741</td>\n",
              "      <td>0.447312</td>\n",
              "      <td>0.594741</td>\n",
              "      <td>0.447312</td>\n",
              "      <td>0.441902</td>\n",
              "      <td>0.383241</td>\n",
              "      <td>0.681768</td>\n",
              "      <td>NaN</td>\n",
              "      <td>4</td>\n",
              "      <td>4</td>\n",
              "      <td>5</td>\n",
              "      <td>5</td>\n",
              "      <td>5</td>\n",
              "      <td>0</td>\n",
              "      <td>1</td>\n",
              "      <td>6</td>\n",
              "      <td>6.0</td>\n",
              "      <td>5.0</td>\n",
              "      <td>NaN</td>\n",
              "      <td>1.0</td>\n",
              "      <td>NaN</td>\n",
              "      <td>...</td>\n",
              "      <td>0</td>\n",
              "      <td>0</td>\n",
              "      <td>0</td>\n",
              "      <td>0</td>\n",
              "      <td>0</td>\n",
              "      <td>0</td>\n",
              "      <td>0</td>\n",
              "      <td>0</td>\n",
              "      <td>0</td>\n",
              "      <td>0</td>\n",
              "      <td>0</td>\n",
              "      <td>0</td>\n",
              "      <td>0</td>\n",
              "      <td>1</td>\n",
              "      <td>0</td>\n",
              "      <td>0</td>\n",
              "      <td>0</td>\n",
              "      <td>0</td>\n",
              "      <td>0</td>\n",
              "      <td>0</td>\n",
              "      <td>0</td>\n",
              "      <td>0</td>\n",
              "      <td>0</td>\n",
              "      <td>0</td>\n",
              "      <td>0</td>\n",
              "      <td>0</td>\n",
              "      <td>0</td>\n",
              "      <td>0</td>\n",
              "      <td>0</td>\n",
              "      <td>0</td>\n",
              "      <td>0</td>\n",
              "      <td>0</td>\n",
              "      <td>0</td>\n",
              "      <td>0</td>\n",
              "      <td>8.0</td>\n",
              "      <td>8.0</td>\n",
              "      <td>3.0</td>\n",
              "      <td>7.0</td>\n",
              "      <td>7.0</td>\n",
              "      <td>3.0</td>\n",
              "    </tr>\n",
              "    <tr>\n",
              "      <th>4</th>\n",
              "      <td>RIYBGC1ZD</td>\n",
              "      <td>3.913385e+05</td>\n",
              "      <td>1.987337e+05</td>\n",
              "      <td>1.703432e+05</td>\n",
              "      <td>1.987337e+05</td>\n",
              "      <td>3.046536e+05</td>\n",
              "      <td>3.046536e+05</td>\n",
              "      <td>2.528307e+05</td>\n",
              "      <td>2.528307e+05</td>\n",
              "      <td>3.034449e+05</td>\n",
              "      <td>3.034449e+05</td>\n",
              "      <td>12.877328</td>\n",
              "      <td>12.626931</td>\n",
              "      <td>12.626931</td>\n",
              "      <td>12.199721</td>\n",
              "      <td>1.166667</td>\n",
              "      <td>63.849949</td>\n",
              "      <td>NaN</td>\n",
              "      <td>NaN</td>\n",
              "      <td>1.272208</td>\n",
              "      <td>0.996032</td>\n",
              "      <td>1.272208</td>\n",
              "      <td>0.996032</td>\n",
              "      <td>0.507021</td>\n",
              "      <td>0.539030</td>\n",
              "      <td>0.742665</td>\n",
              "      <td>NaN</td>\n",
              "      <td>1</td>\n",
              "      <td>1</td>\n",
              "      <td>1</td>\n",
              "      <td>1</td>\n",
              "      <td>1</td>\n",
              "      <td>0</td>\n",
              "      <td>1</td>\n",
              "      <td>6</td>\n",
              "      <td>NaN</td>\n",
              "      <td>NaN</td>\n",
              "      <td>NaN</td>\n",
              "      <td>NaN</td>\n",
              "      <td>NaN</td>\n",
              "      <td>...</td>\n",
              "      <td>0</td>\n",
              "      <td>0</td>\n",
              "      <td>0</td>\n",
              "      <td>0</td>\n",
              "      <td>0</td>\n",
              "      <td>0</td>\n",
              "      <td>0</td>\n",
              "      <td>0</td>\n",
              "      <td>0</td>\n",
              "      <td>0</td>\n",
              "      <td>0</td>\n",
              "      <td>0</td>\n",
              "      <td>0</td>\n",
              "      <td>0</td>\n",
              "      <td>0</td>\n",
              "      <td>0</td>\n",
              "      <td>0</td>\n",
              "      <td>0</td>\n",
              "      <td>0</td>\n",
              "      <td>0</td>\n",
              "      <td>0</td>\n",
              "      <td>0</td>\n",
              "      <td>0</td>\n",
              "      <td>0</td>\n",
              "      <td>0</td>\n",
              "      <td>0</td>\n",
              "      <td>0</td>\n",
              "      <td>0</td>\n",
              "      <td>0</td>\n",
              "      <td>0</td>\n",
              "      <td>0</td>\n",
              "      <td>0</td>\n",
              "      <td>0</td>\n",
              "      <td>0</td>\n",
              "      <td>7.0</td>\n",
              "      <td>7.0</td>\n",
              "      <td>7.0</td>\n",
              "      <td>6.0</td>\n",
              "      <td>6.0</td>\n",
              "      <td>5.0</td>\n",
              "    </tr>\n",
              "  </tbody>\n",
              "</table>\n",
              "<p>5 rows × 2394 columns</p>\n",
              "</div>"
            ],
            "text/plain": [
              "        Col1          Col3          Col4  ...  Col2395  Col2396  Col2397\n",
              "0  RIGD58ZWD  8.167140e+04  8.614542e+04  ...     41.0     41.0     36.0\n",
              "1  RIH660YDS -1.362824e+07 -4.493043e+06  ...    154.0    153.0     86.0\n",
              "2  RIH660Q96  1.302700e+06  1.341449e+06  ...      3.0      1.0      1.0\n",
              "3  RIYDO15W1  1.932258e+05  1.454433e+05  ...      7.0      7.0      3.0\n",
              "4  RIYBGC1ZD  3.913385e+05  1.987337e+05  ...      6.0      6.0      5.0\n",
              "\n",
              "[5 rows x 2394 columns]"
            ]
          },
          "metadata": {
            "tags": []
          },
          "execution_count": 152
        }
      ]
    },
    {
      "cell_type": "code",
      "metadata": {
        "id": "i_lv3lP2q0t2",
        "colab_type": "code",
        "colab": {}
      },
      "source": [
        "idx=test['Col1']\n",
        "test=test.drop(columns=drop_col)"
      ],
      "execution_count": 0,
      "outputs": []
    },
    {
      "cell_type": "code",
      "metadata": {
        "id": "cffkYlJSrOIr",
        "colab_type": "code",
        "colab": {}
      },
      "source": [
        "nan_col_after_test=test.columns[test.isna().any()].tolist()\n",
        "num_nan_after_test=test[nan_col_after].isna().sum()"
      ],
      "execution_count": 0,
      "outputs": []
    },
    {
      "cell_type": "code",
      "metadata": {
        "id": "8xzw3wXkremn",
        "colab_type": "code",
        "outputId": "c0a1e852-29d9-4f37-9412-965fe242b7a6",
        "colab": {
          "base_uri": "https://localhost:8080/",
          "height": 34
        }
      },
      "source": [
        "nan_col_after_test"
      ],
      "execution_count": 0,
      "outputs": [
        {
          "output_type": "execute_result",
          "data": {
            "text/plain": [
              "['Col27']"
            ]
          },
          "metadata": {
            "tags": []
          },
          "execution_count": 155
        }
      ]
    },
    {
      "cell_type": "code",
      "metadata": {
        "id": "vzHf6S7qrgxZ",
        "colab_type": "code",
        "outputId": "afc9670d-84ba-449d-d7d4-f9fcc9a67043",
        "colab": {
          "base_uri": "https://localhost:8080/",
          "height": 34
        }
      },
      "source": [
        "mean=test[nan_col_after].mean(axis=1)\n",
        "test=test.fillna(method='ffill')\n",
        "test.isna().any().sum()"
      ],
      "execution_count": 0,
      "outputs": [
        {
          "output_type": "execute_result",
          "data": {
            "text/plain": [
              "0"
            ]
          },
          "metadata": {
            "tags": []
          },
          "execution_count": 156
        }
      ]
    },
    {
      "cell_type": "code",
      "metadata": {
        "id": "1RggHrWPrqUg",
        "colab_type": "code",
        "colab": {}
      },
      "source": [
        "test=test[imp_columns]"
      ],
      "execution_count": 0,
      "outputs": []
    },
    {
      "cell_type": "code",
      "metadata": {
        "id": "N-WfMTpMsU8q",
        "colab_type": "code",
        "colab": {}
      },
      "source": [
        "y=model.predict(train1)"
      ],
      "execution_count": 0,
      "outputs": []
    },
    {
      "cell_type": "code",
      "metadata": {
        "id": "5Jm8ekR2syq1",
        "colab_type": "code",
        "colab": {}
      },
      "source": [
        "y=pd.DataFrame(y)"
      ],
      "execution_count": 0,
      "outputs": []
    },
    {
      "cell_type": "code",
      "metadata": {
        "id": "_x2VSt5wuNAn",
        "colab_type": "code",
        "outputId": "7030c053-722e-435a-eac5-93687d505fa9",
        "colab": {
          "base_uri": "https://localhost:8080/",
          "height": 34
        }
      },
      "source": [
        "y.shape"
      ],
      "execution_count": 0,
      "outputs": [
        {
          "output_type": "execute_result",
          "data": {
            "text/plain": [
              "(17521, 1)"
            ]
          },
          "metadata": {
            "tags": []
          },
          "execution_count": 160
        }
      ]
    },
    {
      "cell_type": "code",
      "metadata": {
        "id": "J6HvOqnQs91d",
        "colab_type": "code",
        "colab": {}
      },
      "source": [
        "submission=pd.DataFrame()"
      ],
      "execution_count": 0,
      "outputs": []
    },
    {
      "cell_type": "code",
      "metadata": {
        "id": "f5oPD-Rcttnx",
        "colab_type": "code",
        "colab": {}
      },
      "source": [
        "submission['Col1']=idx\n",
        "submission['Col2']=y"
      ],
      "execution_count": 0,
      "outputs": []
    },
    {
      "cell_type": "code",
      "metadata": {
        "id": "YDs53hb0t3hW",
        "colab_type": "code",
        "colab": {}
      },
      "source": [
        "submission.to_csv('submission.csv',index=False)\n"
      ],
      "execution_count": 0,
      "outputs": []
    },
    {
      "cell_type": "code",
      "metadata": {
        "id": "lOz03cwSuejD",
        "colab_type": "code",
        "outputId": "20fdfb12-7331-42dc-cef5-38eb9a092512",
        "colab": {
          "base_uri": "https://localhost:8080/",
          "height": 34
        }
      },
      "source": [
        "submission.shape"
      ],
      "execution_count": 0,
      "outputs": [
        {
          "output_type": "execute_result",
          "data": {
            "text/plain": [
              "(20442, 2)"
            ]
          },
          "metadata": {
            "tags": []
          },
          "execution_count": 386
        }
      ]
    },
    {
      "cell_type": "code",
      "metadata": {
        "id": "45enGqqrvSPN",
        "colab_type": "code",
        "outputId": "c9c1991a-df05-4c92-9e03-aa4424841967",
        "colab": {
          "base_uri": "https://localhost:8080/",
          "height": 34
        }
      },
      "source": [
        "submission['Col2'].nunique()"
      ],
      "execution_count": 0,
      "outputs": [
        {
          "output_type": "execute_result",
          "data": {
            "text/plain": [
              "2"
            ]
          },
          "metadata": {
            "tags": []
          },
          "execution_count": 341
        }
      ]
    },
    {
      "cell_type": "code",
      "metadata": {
        "id": "umEIIgnAwB48",
        "colab_type": "code",
        "colab": {}
      },
      "source": [
        ""
      ],
      "execution_count": 0,
      "outputs": []
    }
  ]
}